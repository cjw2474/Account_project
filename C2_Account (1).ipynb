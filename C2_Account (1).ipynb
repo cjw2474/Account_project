{
 "cells": [
  {
   "cell_type": "code",
   "execution_count": 3,
   "id": "90b7d3ae",
   "metadata": {},
   "outputs": [],
   "source": [
    "import random\n",
    "from datetime import datetime\n",
    "\n",
    "class Account:\n",
    "    \n",
    "    bank_name = \"SC은행\"\n",
    "    account_count = 0 #클래스 변수 계좌 개수\n",
    "    \n",
    "    def __init__(self, owner, account_money):\n",
    "        \n",
    "        #예금주\n",
    "        self.owner = owner\n",
    "        \n",
    "        #초기 잔액\n",
    "        self.account_money = account_money\n",
    "        \n",
    "        #계좌번호 무작위 생성\n",
    "        self.account_number = self._generate_account_number()\n",
    "        \n",
    "        #입금 횟수\n",
    "        self.deposit_count = 0\n",
    "        \n",
    "        #입금 내역 리스트\n",
    "        self.deposit_log = []\n",
    "        \n",
    "        #출금 내역 리스트\n",
    "        self.withdraw_log = []\n",
    "        \n",
    "        #계좌가 생성될 때마다 1증가\n",
    "        Account.account_count += 1\n",
    "        \n",
    "        \n",
    "    def _generate_account_number(self):\n",
    "        first = str(random.randint(100,999)) #100~999까지 랜덤 생성\n",
    "        second = str(random.randint(10,99)) #10~99까지 랜덤생성\n",
    "        third = str(random.randint(100000, 999999)) #100000~999999까지 랜덤 생성\n",
    "        return f\"{first}-{second}-{third}\"\n",
    "    \n",
    "    def __str__(self):\n",
    "        #return f\"[{self.bank_name}]{self.owner}님의 계좌번호는 {self.account_number}, 잔액은 {self.account_money:,}원 입니다.\"\n",
    "    \n",
    "        return \"[{}]{}님의 계좌번호는 {}, 잔액은 {}원 입니다.\".fotmat(\n",
    "            self.bank_name, self.owner, self.account_number, format(self.account_money,',')\n",
    "        )\n",
    "        \n",
    "    @classmethod\n",
    "    def get_account_count(cls):\n",
    "        return cls.account_count\n",
    "    \n",
    "    @classmethod        \n",
    "    def get_account_num(cls):\n",
    "        return cls.account_count\n",
    "    \n",
    "    #입금\n",
    "    def deposit(self, amount):\n",
    "        \n",
    "        if amount < 1:\n",
    "            print(\"입금 금액은 1원 이상부터 가능합니다.\")\n",
    "            return\n",
    "            \n",
    "        self.account_money += amount\n",
    "        self.deposit_count += 1\n",
    "        self.deposit_log.append((datetime.now(), amount)) #입금 기록\n",
    "        \n",
    "        #print(f\"{amount}원이 입금되었습니다. 현재 잔액: {self.account_money}원\")\n",
    "        \n",
    "        print(\"{}원이 입금되었습니다. 현재 잔액: {}원\".format(\n",
    "            format(amount,','), format(self.account_money,',')\n",
    "        ))\n",
    "            \n",
    "        if self.deposit_count % 5 == 0:\n",
    "            interest = int(self.account_money * 0.01) #이자 1%\n",
    "            self.account_money += interest\n",
    "            self.deposit_log.append((datetime.now(), interest))\n",
    "            \n",
    "            #print(f\"입금 {self.deposit_count}회 달성! 이자{interest:,}원이 지급되었습니다.\")\n",
    "            \n",
    "            print(\"입금 {}회 달성 이자 {}원이 지급되었습니다.\" .format(\n",
    "                self.deposit_count, format(interest, ',')\n",
    "            ))\n",
    "            \n",
    "            #print(f\"총 잔액: {self.account_money:,}원\")\n",
    "            \n",
    "            print(\"총 잔액: {}dnjs\".format(format(self.account_money, ',')))\n",
    "            \n",
    "    def withdraw(self, amount):\n",
    "        \n",
    "        if amount > self.account_money:\n",
    "            print(\"계좌 금액보다 큰 금액은 출금이 불가능합니다.\")\n",
    "        else:\n",
    "            self.account_money -= amount\n",
    "            self.withdraw_log.append((datetime.now(), amount))\n",
    "            \n",
    "            #print(f\"{amount}원이 출금되었습니다. 현재 잔액: {self.account_money}원\")\n",
    "            \n",
    "            print(\"{}원이 출금되었습니다. 현재 잔액: {}원\",format(\n",
    "                foramt(amount, ','), format(self.account_money, ',')\n",
    "            ))\n",
    "            \n",
    "    def display_info(self):\n",
    "        #print(f\"[{self.bank_name}]{self.owner}님의 계좌번호는 {self.account_number}, 잔액은{self.account_money:,}원 입니다.\")\n",
    "        \n",
    "        print(\"[{}]{}님의 계좌번호는 {}, 잔액은 {}원 입니다.\".format(\n",
    "            self.bank_name, self.owner, self.account_number, format(self.account_money, ',')\n",
    "        ))\n",
    "        \n",
    "    def deposit_history(self):\n",
    "        #print(f\"[{self.owner}] 입금 내역:\")\n",
    "        \n",
    "        print(\"[{}] 입금 내역:\",format(self.owner))\n",
    "        \n",
    "        if not self.deposit_log:\n",
    "            print(\"입금 내역 없음\")\n",
    "        else:\n",
    "            for time, amount in self.deposit_log:\n",
    "                #print(f\"- {time.strftime('%Y-%m-%d %H:%M:%S')}: - {amount:,}원\")\n",
    "                \n",
    "                print(\"- {}: - {}원\".format(\n",
    "                    time.strftime('%Y-%m-%d %H:%M:%S'), format(amount, ',')\n",
    "                ))\n",
    "    \n",
    "    def withdraw_history(self):\n",
    "        #print(f\"[{self.owner}] 출금 내역:\")\n",
    "        \n",
    "        print(\"[{}] 출금 내역:\",format(self.owner))\n",
    "        \n",
    "        if not self.withdraw_log:\n",
    "            print(\"출금 내역 없음\")\n",
    "        else:\n",
    "            for time, amount in self.withdraw_log:\n",
    "                #print(f\"- {time.strftime('%Y-%m-%d %H:%M:%S')}: - {amount:,}원\")\n",
    "                \n",
    "                print(\"- {}: - {}원\".format(\n",
    "                    time.strftime('%Y-%m-%d %H:%M:%S'), format(amount, ',')\n",
    "                ))\n",
    "                \n",
    "    "
   ]
  },
  {
   "cell_type": "code",
   "execution_count": 20,
   "id": "7e23396e",
   "metadata": {},
   "outputs": [
    {
     "name": "stdout",
     "output_type": "stream",
     "text": [
      "5000원이 입금되었습니다. 현재 잔액: 15000원\n"
     ]
    }
   ],
   "source": [
    "acc = Account(\"홍길동\", 10000)\n",
    "acc.deposit(5000)      # 입금 성공"
   ]
  },
  {
   "cell_type": "code",
   "execution_count": 22,
   "id": "89c048f0",
   "metadata": {},
   "outputs": [
    {
     "name": "stdout",
     "output_type": "stream",
     "text": [
      "입금 금액은 1원 이상부터 가능합니다.\n"
     ]
    }
   ],
   "source": [
    "acc.deposit(-1000)"
   ]
  },
  {
   "cell_type": "code",
   "execution_count": 26,
   "id": "76681f69",
   "metadata": {},
   "outputs": [
    {
     "name": "stdout",
     "output_type": "stream",
     "text": [
      "5000원이 출금되었씁니다. 현재 잔액: 5000원\n"
     ]
    }
   ],
   "source": [
    "acc = Account(\"홍길동\", 10000)\n",
    "acc.withdraw(5000)"
   ]
  },
  {
   "cell_type": "code",
   "execution_count": 31,
   "id": "b18d2a16",
   "metadata": {},
   "outputs": [
    {
     "name": "stdout",
     "output_type": "stream",
     "text": [
      "[SC은행]파이썬님의 계좌번호는 423-60-771931, 잔액은10,000원 입니다.\n"
     ]
    }
   ],
   "source": [
    "acc = Account(\"파이썬\", 10000)\n",
    "acc.display_info()"
   ]
  },
  {
   "cell_type": "code",
   "execution_count": 32,
   "id": "9dd18def",
   "metadata": {},
   "outputs": [],
   "source": [
    "acc1 = Account(\"최재우\", 10000)\n",
    "acc2 = Account(\"권근희\", 20000)\n",
    "acc3 = Account(\"이명주\", 30000)\n",
    "acc4 = Account(\"임수명\", 40000)\n",
    "\n",
    "account_list = [acc1, acc2, acc3, acc4]"
   ]
  },
  {
   "cell_type": "code",
   "execution_count": 34,
   "id": "12a48b20",
   "metadata": {},
   "outputs": [
    {
     "ename": "NameError",
     "evalue": "name 'accout_list' is not defined",
     "output_type": "error",
     "traceback": [
      "\u001b[0;31m---------------------------------------------------------------------------\u001b[0m",
      "\u001b[0;31mNameError\u001b[0m                                 Traceback (most recent call last)",
      "\u001b[0;32m/tmp/ipykernel_37/2239979017.py\u001b[0m in \u001b[0;36m<module>\u001b[0;34m\u001b[0m\n\u001b[0;32m----> 1\u001b[0;31m \u001b[0;32mfor\u001b[0m \u001b[0macc\u001b[0m \u001b[0;32min\u001b[0m \u001b[0maccout_list\u001b[0m\u001b[0;34m:\u001b[0m\u001b[0;34m\u001b[0m\u001b[0;34m\u001b[0m\u001b[0m\n\u001b[0m\u001b[1;32m      2\u001b[0m     \u001b[0macc\u001b[0m\u001b[0;34m.\u001b[0m\u001b[0mdisplay_info\u001b[0m\u001b[0;34m(\u001b[0m\u001b[0;34m)\u001b[0m\u001b[0;34m\u001b[0m\u001b[0;34m\u001b[0m\u001b[0m\n",
      "\u001b[0;31mNameError\u001b[0m: name 'accout_list' is not defined"
     ]
    }
   ],
   "source": [
    "for acc in accout_list:\n",
    "    acc.display_info()"
   ]
  },
  {
   "cell_type": "code",
   "execution_count": 36,
   "id": "031c244f",
   "metadata": {},
   "outputs": [
    {
     "name": "stdout",
     "output_type": "stream",
     "text": [
      "[SC은행]최재우님의 계좌번호는 365-94-718100, 잔액은10,000원 입니다.\n",
      "[SC은행]권근희님의 계좌번호는 853-47-490488, 잔액은20,000원 입니다.\n",
      "[SC은행]이명주님의 계좌번호는 909-65-561378, 잔액은30,000원 입니다.\n",
      "[SC은행]임수명님의 계좌번호는 935-37-617496, 잔액은40,000원 입니다.\n"
     ]
    }
   ],
   "source": [
    "acc1 = Account(\"최재우\", 10000)\n",
    "acc2 = Account(\"권근희\", 20000)\n",
    "acc3 = Account(\"이명주\", 30000)\n",
    "acc4 = Account(\"임수명\", 40000)\n",
    "\n",
    "account_list = [acc1, acc2, acc3, acc4]\n",
    "\n",
    "for acc in account_list:\n",
    "    acc.display_info()"
   ]
  },
  {
   "cell_type": "code",
   "execution_count": 37,
   "id": "2c190e2b",
   "metadata": {},
   "outputs": [
    {
     "name": "stdout",
     "output_type": "stream",
     "text": [
      "[SC은행]최재우님의 계좌번호는 365-94-718100, 잔액은10,000원 입니다.\n",
      "[SC은행]권근희님의 계좌번호는 853-47-490488, 잔액은20,000원 입니다.\n",
      "[SC은행]이명주님의 계좌번호는 909-65-561378, 잔액은30,000원 입니다.\n",
      "[SC은행]임수명님의 계좌번호는 935-37-617496, 잔액은40,000원 입니다.\n"
     ]
    }
   ],
   "source": [
    "for acc in account_list:\n",
    "    acc.display_info()"
   ]
  },
  {
   "cell_type": "code",
   "execution_count": 39,
   "id": "6f4f2008",
   "metadata": {},
   "outputs": [],
   "source": [
    "acc1 = Account(\"최재우\", 10000)\n",
    "acc2 = Account(\"권근희\", 2000000)\n",
    "acc3 = Account(\"이명주\", 3000000)\n",
    "acc4 = Account(\"임수명\", 4000000)\n",
    "\n",
    "account_list = [acc1, acc2, acc3, acc4]"
   ]
  },
  {
   "cell_type": "code",
   "execution_count": 40,
   "id": "68b99586",
   "metadata": {},
   "outputs": [
    {
     "name": "stdout",
     "output_type": "stream",
     "text": [
      "[SC은행]권근희님의 계좌번호는 171-53-378802, 잔액은2,000,000원 입니다.\n",
      "[SC은행]이명주님의 계좌번호는 907-80-393795, 잔액은3,000,000원 입니다.\n",
      "[SC은행]임수명님의 계좌번호는 353-43-931474, 잔액은4,000,000원 입니다.\n"
     ]
    }
   ],
   "source": [
    "for acc in account_list:\n",
    "    if acc.account_money >= 1_000_000:\n",
    "        acc.display_info()"
   ]
  },
  {
   "cell_type": "code",
   "execution_count": 43,
   "id": "80be8aa0",
   "metadata": {},
   "outputs": [
    {
     "name": "stdout",
     "output_type": "stream",
     "text": [
      "5000원이 입금되었습니다. 현재 잔액: 15000원\n",
      "20000원이 입금되었습니다. 현재 잔액: 35000원\n",
      "7000원이 출금되었습니다. 현재 잔액: 28000원\n",
      "\n",
      "[홍길동] 입금 내역:\n",
      "- 2025-06-05 06:13:37: + 5,000원\n",
      "- 2025-06-05 06:13:37: + 20,000원\n",
      "\n",
      "[홍길동] 출금 내역:\n",
      "- 2025-06-05 06:13:37: + 7,000원\n"
     ]
    }
   ],
   "source": [
    "acc = Account(\"홍길동\", 10000)\n",
    "\n",
    "acc.deposit(5000)\n",
    "acc.deposit(20000)\n",
    "acc.withdraw(7000)\n",
    "\n",
    "print()\n",
    "acc.deposit_history()\n",
    "print()\n",
    "acc.withdraw_history()"
   ]
  },
  {
   "cell_type": "code",
   "execution_count": 44,
   "id": "a5cab904",
   "metadata": {},
   "outputs": [
    {
     "name": "stdout",
     "output_type": "stream",
     "text": [
      "1000원이 입금되었습니다. 현재 잔액: 11000원\n",
      "2000원이 입금되었습니다. 현재 잔액: 13000원\n",
      "3000원이 입금되었습니다. 현재 잔액: 16000원\n",
      "4000원이 입금되었습니다. 현재 잔액: 20000원\n",
      "5000원이 입금되었습니다. 현재 잔액: 25000원\n"
     ]
    },
    {
     "ename": "UnboundLocalError",
     "evalue": "local variable 'interest' referenced before assignment",
     "output_type": "error",
     "traceback": [
      "\u001b[0;31m---------------------------------------------------------------------------\u001b[0m",
      "\u001b[0;31mUnboundLocalError\u001b[0m                         Traceback (most recent call last)",
      "\u001b[0;32m/tmp/ipykernel_37/2796551307.py\u001b[0m in \u001b[0;36m<module>\u001b[0;34m\u001b[0m\n\u001b[1;32m      4\u001b[0m \u001b[0macc\u001b[0m\u001b[0;34m.\u001b[0m\u001b[0mdeposit\u001b[0m\u001b[0;34m(\u001b[0m\u001b[0;36m3000\u001b[0m\u001b[0;34m)\u001b[0m\u001b[0;34m\u001b[0m\u001b[0;34m\u001b[0m\u001b[0m\n\u001b[1;32m      5\u001b[0m \u001b[0macc\u001b[0m\u001b[0;34m.\u001b[0m\u001b[0mdeposit\u001b[0m\u001b[0;34m(\u001b[0m\u001b[0;36m4000\u001b[0m\u001b[0;34m)\u001b[0m\u001b[0;34m\u001b[0m\u001b[0;34m\u001b[0m\u001b[0m\n\u001b[0;32m----> 6\u001b[0;31m \u001b[0macc\u001b[0m\u001b[0;34m.\u001b[0m\u001b[0mdeposit\u001b[0m\u001b[0;34m(\u001b[0m\u001b[0;36m5000\u001b[0m\u001b[0;34m)\u001b[0m\u001b[0;34m\u001b[0m\u001b[0;34m\u001b[0m\u001b[0m\n\u001b[0m\u001b[1;32m      7\u001b[0m \u001b[0macc\u001b[0m\u001b[0;34m.\u001b[0m\u001b[0mdeposit\u001b[0m\u001b[0;34m(\u001b[0m\u001b[0;36m6000\u001b[0m\u001b[0;34m)\u001b[0m\u001b[0;34m\u001b[0m\u001b[0;34m\u001b[0m\u001b[0m\n\u001b[1;32m      8\u001b[0m \u001b[0;34m\u001b[0m\u001b[0m\n",
      "\u001b[0;32m/tmp/ipykernel_37/3214903938.py\u001b[0m in \u001b[0;36mdeposit\u001b[0;34m(self, amount)\u001b[0m\n\u001b[1;32m     60\u001b[0m \u001b[0;34m\u001b[0m\u001b[0m\n\u001b[1;32m     61\u001b[0m         \u001b[0;32mif\u001b[0m \u001b[0mself\u001b[0m\u001b[0;34m.\u001b[0m\u001b[0mdeposit_count\u001b[0m \u001b[0;34m%\u001b[0m \u001b[0;36m5\u001b[0m \u001b[0;34m==\u001b[0m \u001b[0;36m0\u001b[0m\u001b[0;34m:\u001b[0m\u001b[0;34m\u001b[0m\u001b[0;34m\u001b[0m\u001b[0m\n\u001b[0;32m---> 62\u001b[0;31m             \u001b[0minterest\u001b[0m \u001b[0;34m+=\u001b[0m \u001b[0mint\u001b[0m\u001b[0;34m(\u001b[0m\u001b[0mself\u001b[0m\u001b[0;34m.\u001b[0m\u001b[0maccount_money\u001b[0m \u001b[0;34m*\u001b[0m \u001b[0;36m0.01\u001b[0m\u001b[0;34m)\u001b[0m \u001b[0;31m#이자 1%\u001b[0m\u001b[0;34m\u001b[0m\u001b[0;34m\u001b[0m\u001b[0m\n\u001b[0m\u001b[1;32m     63\u001b[0m             \u001b[0mself\u001b[0m\u001b[0;34m.\u001b[0m\u001b[0maccount_money\u001b[0m \u001b[0;34m+=\u001b[0m \u001b[0minterest\u001b[0m\u001b[0;34m\u001b[0m\u001b[0;34m\u001b[0m\u001b[0m\n\u001b[1;32m     64\u001b[0m             \u001b[0mself\u001b[0m\u001b[0;34m.\u001b[0m\u001b[0mdeosit_log\u001b[0m\u001b[0;34m.\u001b[0m\u001b[0mappend\u001b[0m\u001b[0;34m(\u001b[0m\u001b[0;34m(\u001b[0m\u001b[0mdatetime\u001b[0m\u001b[0;34m.\u001b[0m\u001b[0mnow\u001b[0m\u001b[0;34m,\u001b[0m \u001b[0minterest\u001b[0m\u001b[0;34m)\u001b[0m\u001b[0;34m)\u001b[0m\u001b[0;34m\u001b[0m\u001b[0;34m\u001b[0m\u001b[0m\n",
      "\u001b[0;31mUnboundLocalError\u001b[0m: local variable 'interest' referenced before assignment"
     ]
    }
   ],
   "source": [
    "acc = Account(\"최재우\", 10000)\n",
    "acc.deposit(1000)\n",
    "acc.deposit(2000)\n",
    "acc.deposit(3000)\n",
    "acc.deposit(4000)\n",
    "acc.deposit(5000)\n",
    "acc.deposit(6000)\n",
    "\n",
    "acc.display.info()"
   ]
  },
  {
   "cell_type": "code",
   "execution_count": 4,
   "id": "e66adcdd",
   "metadata": {},
   "outputs": [
    {
     "name": "stdout",
     "output_type": "stream",
     "text": [
      "1,000원이 입금되었습니다. 현재 잔액: 11,000원\n",
      "2,000원이 입금되었습니다. 현재 잔액: 13,000원\n",
      "3,000원이 입금되었습니다. 현재 잔액: 16,000원\n",
      "4,000원이 입금되었습니다. 현재 잔액: 20,000원\n",
      "4,000원이 입금되었습니다. 현재 잔액: 24,000원\n",
      "입금 5회 달성 이자 240원이 지급되었습니다.\n",
      "총 잔액: 24,240dnjs\n",
      "[SC은행]최재우님의 계좌번호는 275-70-814170, 잔액은 24,240원 입니다.\n"
     ]
    }
   ],
   "source": [
    "acc = Account(\"최재우\", 10000)\n",
    "acc.deposit(1000)\n",
    "acc.deposit(2000)\n",
    "acc.deposit(3000)\n",
    "acc.deposit(4000)\n",
    "acc.deposit(4000)\n",
    "\n",
    "\n",
    "acc.display_info()"
   ]
  },
  {
   "cell_type": "code",
   "execution_count": null,
   "id": "9d1a8977",
   "metadata": {},
   "outputs": [],
   "source": []
  }
 ],
 "metadata": {
  "kernelspec": {
   "display_name": "Python 3 (ipykernel)",
   "language": "python",
   "name": "python3"
  },
  "language_info": {
   "codemirror_mode": {
    "name": "ipython",
    "version": 3
   },
   "file_extension": ".py",
   "mimetype": "text/x-python",
   "name": "python",
   "nbconvert_exporter": "python",
   "pygments_lexer": "ipython3",
   "version": "3.9.7"
  }
 },
 "nbformat": 4,
 "nbformat_minor": 5
}
